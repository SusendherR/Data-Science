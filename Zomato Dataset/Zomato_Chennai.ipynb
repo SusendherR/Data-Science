{
 "cells": [
  {
   "cell_type": "markdown",
   "id": "b9bf20e1-b73b-4842-8f29-be61ae4ce663",
   "metadata": {},
   "source": [
    "1.importing the libraries"
   ]
  },
  {
   "cell_type": "code",
   "execution_count": 43,
   "id": "a8cc8dc6-0440-4be5-9c68-8ab1ece4beb8",
   "metadata": {},
   "outputs": [],
   "source": [
    "import pandas as pd\n",
    "import numpy as np\n",
    "import seaborn as sns\n",
    "import matplotlib.pyplot as plt\n",
    "import plotly.express as px\n",
    "import plotly.io as pio"
   ]
  },
  {
   "cell_type": "markdown",
   "id": "723edd1c-c03f-4da9-8da7-6d2136d28f3c",
   "metadata": {},
   "source": [
    "2.Importing the dataset"
   ]
  },
  {
   "cell_type": "code",
   "execution_count": 46,
   "id": "3c84675a-c92d-4758-9a1e-bec5d85e69e0",
   "metadata": {},
   "outputs": [],
   "source": [
    "raw_df=pd.read_csv('Zomato Chennai Listing .csv')"
   ]
  },
  {
   "cell_type": "code",
   "execution_count": 48,
   "id": "521f8e65-b23d-4938-b639-af13d5a9a9e8",
   "metadata": {
    "scrolled": true
   },
   "outputs": [
    {
     "data": {
      "text/html": [
       "<div>\n",
       "<style scoped>\n",
       "    .dataframe tbody tr th:only-of-type {\n",
       "        vertical-align: middle;\n",
       "    }\n",
       "\n",
       "    .dataframe tbody tr th {\n",
       "        vertical-align: top;\n",
       "    }\n",
       "\n",
       "    .dataframe thead th {\n",
       "        text-align: right;\n",
       "    }\n",
       "</style>\n",
       "<table border=\"1\" class=\"dataframe\">\n",
       "  <thead>\n",
       "    <tr style=\"text-align: right;\">\n",
       "      <th></th>\n",
       "      <th>Zomato URL</th>\n",
       "      <th>Name of Restaurant</th>\n",
       "      <th>Address</th>\n",
       "      <th>Location</th>\n",
       "      <th>Cuisine</th>\n",
       "      <th>Top Dishes</th>\n",
       "      <th>Price for 2</th>\n",
       "      <th>Dining Rating</th>\n",
       "      <th>Dining Rating Count</th>\n",
       "      <th>Delivery Rating</th>\n",
       "      <th>Delivery Rating Count</th>\n",
       "      <th>Features</th>\n",
       "    </tr>\n",
       "  </thead>\n",
       "  <tbody>\n",
       "    <tr>\n",
       "      <th>0</th>\n",
       "      <td>https://www.zomato.com/chennai/yaa-mohaideen-b...</td>\n",
       "      <td>Yaa Mohaideen Briyani</td>\n",
       "      <td>336 &amp; 338, Main Road, Pallavaram, Chennai</td>\n",
       "      <td>Pallavaram</td>\n",
       "      <td>['Biryani']</td>\n",
       "      <td>['Bread Halwa', ' Chicken 65', ' Mutton Biryan...</td>\n",
       "      <td>500.0</td>\n",
       "      <td>4.3</td>\n",
       "      <td>1500</td>\n",
       "      <td>4.3</td>\n",
       "      <td>9306</td>\n",
       "      <td>['Home Delivery', 'Indoor Seating']</td>\n",
       "    </tr>\n",
       "    <tr>\n",
       "      <th>1</th>\n",
       "      <td>https://www.zomato.com/chennai/sukkubhai-biriy...</td>\n",
       "      <td>Sukkubhai Biriyani</td>\n",
       "      <td>New 14, Old 11/3Q, Railway Station Road, MKN ...</td>\n",
       "      <td>Alandur</td>\n",
       "      <td>['Biryani', ' North Indian', ' Mughlai', ' Des...</td>\n",
       "      <td>['Beef Biryani', ' Beef Fry', ' Paratha', ' Pa...</td>\n",
       "      <td>1000.0</td>\n",
       "      <td>4.4</td>\n",
       "      <td>3059</td>\n",
       "      <td>4.1</td>\n",
       "      <td>39200</td>\n",
       "      <td>['Home Delivery', 'Free Parking', 'Table booki...</td>\n",
       "    </tr>\n",
       "    <tr>\n",
       "      <th>2</th>\n",
       "      <td>https://www.zomato.com/chennai/ss-hyderabad-bi...</td>\n",
       "      <td>SS Hyderabad Biryani</td>\n",
       "      <td>98/339, Arcot Road, Opposite Gokulam Chit Fun...</td>\n",
       "      <td>Kodambakkam</td>\n",
       "      <td>['Biryani', ' North Indian', ' Chinese', ' Ara...</td>\n",
       "      <td>['Brinjal Curry', ' Tandoori Chicken', ' Chick...</td>\n",
       "      <td>500.0</td>\n",
       "      <td>4.3</td>\n",
       "      <td>1361</td>\n",
       "      <td>4.4</td>\n",
       "      <td>10500</td>\n",
       "      <td>['Home Delivery', 'Indoor Seating']</td>\n",
       "    </tr>\n",
       "    <tr>\n",
       "      <th>3</th>\n",
       "      <td>https://www.zomato.com/chennai/kfc-perambur</td>\n",
       "      <td>KFC</td>\n",
       "      <td>10, Periyar Nagar, 70 Feet Road, Near Sheeba ...</td>\n",
       "      <td>Perambur</td>\n",
       "      <td>['Burger', ' Fast Food', ' Finger Food', ' Bev...</td>\n",
       "      <td>['Zinger Burger']</td>\n",
       "      <td>500.0</td>\n",
       "      <td>4.0</td>\n",
       "      <td>1101</td>\n",
       "      <td>4.0</td>\n",
       "      <td>11200</td>\n",
       "      <td>['Home Delivery', 'Free Parking', 'Card Upon D...</td>\n",
       "    </tr>\n",
       "    <tr>\n",
       "      <th>4</th>\n",
       "      <td>https://www.zomato.com/chennai/tasty-kitchen-p...</td>\n",
       "      <td>Tasty Kitchen</td>\n",
       "      <td>135B, SRP Colony, Peravallur, Near Perambur, ...</td>\n",
       "      <td>Perambur</td>\n",
       "      <td>['Chinese', ' Biryani', ' North Indian', ' Che...</td>\n",
       "      <td>['Mutton Biryani', ' Chicken Rice', ' Tomato R...</td>\n",
       "      <td>450.0</td>\n",
       "      <td>4.2</td>\n",
       "      <td>617</td>\n",
       "      <td>4.1</td>\n",
       "      <td>22400</td>\n",
       "      <td>['Home Delivery', 'Indoor Seating']</td>\n",
       "    </tr>\n",
       "  </tbody>\n",
       "</table>\n",
       "</div>"
      ],
      "text/plain": [
       "                                          Zomato URL     Name of Restaurant  \\\n",
       "0  https://www.zomato.com/chennai/yaa-mohaideen-b...  Yaa Mohaideen Briyani   \n",
       "1  https://www.zomato.com/chennai/sukkubhai-biriy...     Sukkubhai Biriyani   \n",
       "2  https://www.zomato.com/chennai/ss-hyderabad-bi...   SS Hyderabad Biryani   \n",
       "3        https://www.zomato.com/chennai/kfc-perambur                    KFC   \n",
       "4  https://www.zomato.com/chennai/tasty-kitchen-p...          Tasty Kitchen   \n",
       "\n",
       "                                             Address     Location  \\\n",
       "0          336 & 338, Main Road, Pallavaram, Chennai   Pallavaram   \n",
       "1   New 14, Old 11/3Q, Railway Station Road, MKN ...      Alandur   \n",
       "2   98/339, Arcot Road, Opposite Gokulam Chit Fun...  Kodambakkam   \n",
       "3   10, Periyar Nagar, 70 Feet Road, Near Sheeba ...     Perambur   \n",
       "4   135B, SRP Colony, Peravallur, Near Perambur, ...     Perambur   \n",
       "\n",
       "                                             Cuisine  \\\n",
       "0                                        ['Biryani']   \n",
       "1  ['Biryani', ' North Indian', ' Mughlai', ' Des...   \n",
       "2  ['Biryani', ' North Indian', ' Chinese', ' Ara...   \n",
       "3  ['Burger', ' Fast Food', ' Finger Food', ' Bev...   \n",
       "4  ['Chinese', ' Biryani', ' North Indian', ' Che...   \n",
       "\n",
       "                                          Top Dishes  Price for 2  \\\n",
       "0  ['Bread Halwa', ' Chicken 65', ' Mutton Biryan...        500.0   \n",
       "1  ['Beef Biryani', ' Beef Fry', ' Paratha', ' Pa...       1000.0   \n",
       "2  ['Brinjal Curry', ' Tandoori Chicken', ' Chick...        500.0   \n",
       "3                                  ['Zinger Burger']        500.0   \n",
       "4  ['Mutton Biryani', ' Chicken Rice', ' Tomato R...        450.0   \n",
       "\n",
       "   Dining Rating Dining Rating Count  Delivery Rating Delivery Rating Count  \\\n",
       "0            4.3                1500              4.3                  9306   \n",
       "1            4.4                3059              4.1                 39200   \n",
       "2            4.3                1361              4.4                 10500   \n",
       "3            4.0                1101              4.0                 11200   \n",
       "4            4.2                 617              4.1                 22400   \n",
       "\n",
       "                                            Features  \n",
       "0                ['Home Delivery', 'Indoor Seating']  \n",
       "1  ['Home Delivery', 'Free Parking', 'Table booki...  \n",
       "2                ['Home Delivery', 'Indoor Seating']  \n",
       "3  ['Home Delivery', 'Free Parking', 'Card Upon D...  \n",
       "4                ['Home Delivery', 'Indoor Seating']  "
      ]
     },
     "execution_count": 48,
     "metadata": {},
     "output_type": "execute_result"
    }
   ],
   "source": [
    "raw_df.head()"
   ]
  },
  {
   "cell_type": "markdown",
   "id": "6b63e4ef-e951-4249-a42a-6f7ace791b7a",
   "metadata": {},
   "source": [
    "3. Getting Basic Information about the Dataset"
   ]
  },
  {
   "cell_type": "code",
   "execution_count": 51,
   "id": "9eeeb062-34fc-419d-8787-24fcf76f61f4",
   "metadata": {},
   "outputs": [
    {
     "data": {
      "text/plain": [
       "(12032, 12)"
      ]
     },
     "execution_count": 51,
     "metadata": {},
     "output_type": "execute_result"
    }
   ],
   "source": [
    "raw_df.shape"
   ]
  },
  {
   "cell_type": "code",
   "execution_count": 53,
   "id": "10bb15df-9585-4006-8401-d0d3001b73f4",
   "metadata": {},
   "outputs": [
    {
     "name": "stdout",
     "output_type": "stream",
     "text": [
      "<class 'pandas.core.frame.DataFrame'>\n",
      "RangeIndex: 12032 entries, 0 to 12031\n",
      "Data columns (total 12 columns):\n",
      " #   Column                 Non-Null Count  Dtype  \n",
      "---  ------                 --------------  -----  \n",
      " 0   Zomato URL             12032 non-null  object \n",
      " 1   Name of Restaurant     12032 non-null  object \n",
      " 2   Address                12032 non-null  object \n",
      " 3   Location               12032 non-null  object \n",
      " 4   Cuisine                12032 non-null  object \n",
      " 5   Top Dishes             12032 non-null  object \n",
      " 6   Price for 2            12032 non-null  float64\n",
      " 7   Dining Rating          6681 non-null   float64\n",
      " 8   Dining Rating Count    11812 non-null  object \n",
      " 9   Delivery Rating        6181 non-null   float64\n",
      " 10  Delivery Rating Count  11812 non-null  object \n",
      " 11  Features               12032 non-null  object \n",
      "dtypes: float64(3), object(9)\n",
      "memory usage: 1.1+ MB\n"
     ]
    }
   ],
   "source": [
    "raw_df.info()"
   ]
  },
  {
   "cell_type": "code",
   "execution_count": 55,
   "id": "8c546508-cf7b-432d-be2b-cca1dfce4b7e",
   "metadata": {},
   "outputs": [
    {
     "data": {
      "text/html": [
       "<div>\n",
       "<style scoped>\n",
       "    .dataframe tbody tr th:only-of-type {\n",
       "        vertical-align: middle;\n",
       "    }\n",
       "\n",
       "    .dataframe tbody tr th {\n",
       "        vertical-align: top;\n",
       "    }\n",
       "\n",
       "    .dataframe thead th {\n",
       "        text-align: right;\n",
       "    }\n",
       "</style>\n",
       "<table border=\"1\" class=\"dataframe\">\n",
       "  <thead>\n",
       "    <tr style=\"text-align: right;\">\n",
       "      <th></th>\n",
       "      <th>Price for 2</th>\n",
       "      <th>Dining Rating</th>\n",
       "      <th>Delivery Rating</th>\n",
       "    </tr>\n",
       "  </thead>\n",
       "  <tbody>\n",
       "    <tr>\n",
       "      <th>count</th>\n",
       "      <td>12032.000000</td>\n",
       "      <td>6681.000000</td>\n",
       "      <td>6181.000000</td>\n",
       "    </tr>\n",
       "    <tr>\n",
       "      <th>mean</th>\n",
       "      <td>397.611370</td>\n",
       "      <td>3.387756</td>\n",
       "      <td>3.805290</td>\n",
       "    </tr>\n",
       "    <tr>\n",
       "      <th>std</th>\n",
       "      <td>332.045938</td>\n",
       "      <td>0.558181</td>\n",
       "      <td>0.374213</td>\n",
       "    </tr>\n",
       "    <tr>\n",
       "      <th>min</th>\n",
       "      <td>40.000000</td>\n",
       "      <td>0.300000</td>\n",
       "      <td>0.300000</td>\n",
       "    </tr>\n",
       "    <tr>\n",
       "      <th>25%</th>\n",
       "      <td>200.000000</td>\n",
       "      <td>3.100000</td>\n",
       "      <td>3.600000</td>\n",
       "    </tr>\n",
       "    <tr>\n",
       "      <th>50%</th>\n",
       "      <td>300.000000</td>\n",
       "      <td>3.500000</td>\n",
       "      <td>3.900000</td>\n",
       "    </tr>\n",
       "    <tr>\n",
       "      <th>75%</th>\n",
       "      <td>450.000000</td>\n",
       "      <td>3.800000</td>\n",
       "      <td>4.000000</td>\n",
       "    </tr>\n",
       "    <tr>\n",
       "      <th>max</th>\n",
       "      <td>5000.000000</td>\n",
       "      <td>4.900000</td>\n",
       "      <td>4.700000</td>\n",
       "    </tr>\n",
       "  </tbody>\n",
       "</table>\n",
       "</div>"
      ],
      "text/plain": [
       "        Price for 2  Dining Rating  Delivery Rating\n",
       "count  12032.000000    6681.000000      6181.000000\n",
       "mean     397.611370       3.387756         3.805290\n",
       "std      332.045938       0.558181         0.374213\n",
       "min       40.000000       0.300000         0.300000\n",
       "25%      200.000000       3.100000         3.600000\n",
       "50%      300.000000       3.500000         3.900000\n",
       "75%      450.000000       3.800000         4.000000\n",
       "max     5000.000000       4.900000         4.700000"
      ]
     },
     "execution_count": 55,
     "metadata": {},
     "output_type": "execute_result"
    }
   ],
   "source": [
    "raw_df.describe()"
   ]
  },
  {
   "cell_type": "markdown",
   "id": "f552c76d-2e01-4412-92ce-5886cbbd5db8",
   "metadata": {},
   "source": [
    "4.cleaning the dataset"
   ]
  },
  {
   "cell_type": "code",
   "execution_count": 57,
   "id": "a3880e5b-2b5f-49fb-b644-d0ab4fe4253b",
   "metadata": {},
   "outputs": [
    {
     "data": {
      "text/plain": [
       "Zomato URL                  0\n",
       "Name of Restaurant          0\n",
       "Address                     0\n",
       "Location                    0\n",
       "Cuisine                     0\n",
       "Top Dishes                  0\n",
       "Price for 2                 0\n",
       "Dining Rating            5351\n",
       "Dining Rating Count       220\n",
       "Delivery Rating          5851\n",
       "Delivery Rating Count     220\n",
       "Features                    0\n",
       "dtype: int64"
      ]
     },
     "execution_count": 57,
     "metadata": {},
     "output_type": "execute_result"
    }
   ],
   "source": [
    "# Checking for Null records\n",
    "raw_df.isna().sum()"
   ]
  },
  {
   "cell_type": "code",
   "execution_count": 59,
   "id": "7bc966bb-609c-42d9-a262-0ceac727f29e",
   "metadata": {},
   "outputs": [],
   "source": [
    "# drop the URL and address\n",
    "raw_df.drop(['Zomato URL','Address'],axis=1,inplace=True)"
   ]
  },
  {
   "cell_type": "code",
   "execution_count": 61,
   "id": "c7ef169a-e36d-40bf-9e2e-5bb701ee550c",
   "metadata": {},
   "outputs": [
    {
     "data": {
      "text/plain": [
       "(12032, 10)"
      ]
     },
     "execution_count": 61,
     "metadata": {},
     "output_type": "execute_result"
    }
   ],
   "source": [
    "raw_df.shape"
   ]
  },
  {
   "cell_type": "code",
   "execution_count": 63,
   "id": "e3ffb36f-5d7e-4439-a688-17fb74722956",
   "metadata": {},
   "outputs": [
    {
     "data": {
      "text/html": [
       "<div>\n",
       "<style scoped>\n",
       "    .dataframe tbody tr th:only-of-type {\n",
       "        vertical-align: middle;\n",
       "    }\n",
       "\n",
       "    .dataframe tbody tr th {\n",
       "        vertical-align: top;\n",
       "    }\n",
       "\n",
       "    .dataframe thead th {\n",
       "        text-align: right;\n",
       "    }\n",
       "</style>\n",
       "<table border=\"1\" class=\"dataframe\">\n",
       "  <thead>\n",
       "    <tr style=\"text-align: right;\">\n",
       "      <th></th>\n",
       "      <th>Name of Restaurant</th>\n",
       "      <th>Location</th>\n",
       "      <th>Cuisine</th>\n",
       "      <th>Top Dishes</th>\n",
       "      <th>Price for 2</th>\n",
       "      <th>Dining Rating</th>\n",
       "      <th>Dining Rating Count</th>\n",
       "      <th>Delivery Rating</th>\n",
       "      <th>Delivery Rating Count</th>\n",
       "      <th>Features</th>\n",
       "    </tr>\n",
       "  </thead>\n",
       "  <tbody>\n",
       "    <tr>\n",
       "      <th>0</th>\n",
       "      <td>Yaa Mohaideen Briyani</td>\n",
       "      <td>Pallavaram</td>\n",
       "      <td>['Biryani']</td>\n",
       "      <td>['Bread Halwa', ' Chicken 65', ' Mutton Biryan...</td>\n",
       "      <td>500.0</td>\n",
       "      <td>4.3</td>\n",
       "      <td>1500</td>\n",
       "      <td>4.3</td>\n",
       "      <td>9306</td>\n",
       "      <td>['Home Delivery', 'Indoor Seating']</td>\n",
       "    </tr>\n",
       "    <tr>\n",
       "      <th>1</th>\n",
       "      <td>Sukkubhai Biriyani</td>\n",
       "      <td>Alandur</td>\n",
       "      <td>['Biryani', ' North Indian', ' Mughlai', ' Des...</td>\n",
       "      <td>['Beef Biryani', ' Beef Fry', ' Paratha', ' Pa...</td>\n",
       "      <td>1000.0</td>\n",
       "      <td>4.4</td>\n",
       "      <td>3059</td>\n",
       "      <td>4.1</td>\n",
       "      <td>39200</td>\n",
       "      <td>['Home Delivery', 'Free Parking', 'Table booki...</td>\n",
       "    </tr>\n",
       "    <tr>\n",
       "      <th>2</th>\n",
       "      <td>SS Hyderabad Biryani</td>\n",
       "      <td>Kodambakkam</td>\n",
       "      <td>['Biryani', ' North Indian', ' Chinese', ' Ara...</td>\n",
       "      <td>['Brinjal Curry', ' Tandoori Chicken', ' Chick...</td>\n",
       "      <td>500.0</td>\n",
       "      <td>4.3</td>\n",
       "      <td>1361</td>\n",
       "      <td>4.4</td>\n",
       "      <td>10500</td>\n",
       "      <td>['Home Delivery', 'Indoor Seating']</td>\n",
       "    </tr>\n",
       "    <tr>\n",
       "      <th>3</th>\n",
       "      <td>KFC</td>\n",
       "      <td>Perambur</td>\n",
       "      <td>['Burger', ' Fast Food', ' Finger Food', ' Bev...</td>\n",
       "      <td>['Zinger Burger']</td>\n",
       "      <td>500.0</td>\n",
       "      <td>4.0</td>\n",
       "      <td>1101</td>\n",
       "      <td>4.0</td>\n",
       "      <td>11200</td>\n",
       "      <td>['Home Delivery', 'Free Parking', 'Card Upon D...</td>\n",
       "    </tr>\n",
       "    <tr>\n",
       "      <th>4</th>\n",
       "      <td>Tasty Kitchen</td>\n",
       "      <td>Perambur</td>\n",
       "      <td>['Chinese', ' Biryani', ' North Indian', ' Che...</td>\n",
       "      <td>['Mutton Biryani', ' Chicken Rice', ' Tomato R...</td>\n",
       "      <td>450.0</td>\n",
       "      <td>4.2</td>\n",
       "      <td>617</td>\n",
       "      <td>4.1</td>\n",
       "      <td>22400</td>\n",
       "      <td>['Home Delivery', 'Indoor Seating']</td>\n",
       "    </tr>\n",
       "  </tbody>\n",
       "</table>\n",
       "</div>"
      ],
      "text/plain": [
       "      Name of Restaurant     Location  \\\n",
       "0  Yaa Mohaideen Briyani   Pallavaram   \n",
       "1     Sukkubhai Biriyani      Alandur   \n",
       "2   SS Hyderabad Biryani  Kodambakkam   \n",
       "3                    KFC     Perambur   \n",
       "4          Tasty Kitchen     Perambur   \n",
       "\n",
       "                                             Cuisine  \\\n",
       "0                                        ['Biryani']   \n",
       "1  ['Biryani', ' North Indian', ' Mughlai', ' Des...   \n",
       "2  ['Biryani', ' North Indian', ' Chinese', ' Ara...   \n",
       "3  ['Burger', ' Fast Food', ' Finger Food', ' Bev...   \n",
       "4  ['Chinese', ' Biryani', ' North Indian', ' Che...   \n",
       "\n",
       "                                          Top Dishes  Price for 2  \\\n",
       "0  ['Bread Halwa', ' Chicken 65', ' Mutton Biryan...        500.0   \n",
       "1  ['Beef Biryani', ' Beef Fry', ' Paratha', ' Pa...       1000.0   \n",
       "2  ['Brinjal Curry', ' Tandoori Chicken', ' Chick...        500.0   \n",
       "3                                  ['Zinger Burger']        500.0   \n",
       "4  ['Mutton Biryani', ' Chicken Rice', ' Tomato R...        450.0   \n",
       "\n",
       "   Dining Rating Dining Rating Count  Delivery Rating Delivery Rating Count  \\\n",
       "0            4.3                1500              4.3                  9306   \n",
       "1            4.4                3059              4.1                 39200   \n",
       "2            4.3                1361              4.4                 10500   \n",
       "3            4.0                1101              4.0                 11200   \n",
       "4            4.2                 617              4.1                 22400   \n",
       "\n",
       "                                            Features  \n",
       "0                ['Home Delivery', 'Indoor Seating']  \n",
       "1  ['Home Delivery', 'Free Parking', 'Table booki...  \n",
       "2                ['Home Delivery', 'Indoor Seating']  \n",
       "3  ['Home Delivery', 'Free Parking', 'Card Upon D...  \n",
       "4                ['Home Delivery', 'Indoor Seating']  "
      ]
     },
     "execution_count": 63,
     "metadata": {},
     "output_type": "execute_result"
    }
   ],
   "source": [
    "raw_df.head()"
   ]
  },
  {
   "cell_type": "code",
   "execution_count": 65,
   "id": "7deb1e0a-fe42-4d1c-861f-c9de342938ab",
   "metadata": {},
   "outputs": [
    {
     "data": {
      "text/html": [
       "<div>\n",
       "<style scoped>\n",
       "    .dataframe tbody tr th:only-of-type {\n",
       "        vertical-align: middle;\n",
       "    }\n",
       "\n",
       "    .dataframe tbody tr th {\n",
       "        vertical-align: top;\n",
       "    }\n",
       "\n",
       "    .dataframe thead th {\n",
       "        text-align: right;\n",
       "    }\n",
       "</style>\n",
       "<table border=\"1\" class=\"dataframe\">\n",
       "  <thead>\n",
       "    <tr style=\"text-align: right;\">\n",
       "      <th></th>\n",
       "      <th>Name of Restaurant</th>\n",
       "      <th>Location</th>\n",
       "      <th>Cuisine</th>\n",
       "      <th>Top Dishes</th>\n",
       "      <th>Price for 2</th>\n",
       "      <th>Dining Rating</th>\n",
       "      <th>Dining Rating Count</th>\n",
       "      <th>Delivery Rating</th>\n",
       "      <th>Delivery Rating Count</th>\n",
       "      <th>Features</th>\n",
       "    </tr>\n",
       "  </thead>\n",
       "  <tbody>\n",
       "  </tbody>\n",
       "</table>\n",
       "</div>"
      ],
      "text/plain": [
       "Empty DataFrame\n",
       "Columns: [Name of Restaurant, Location, Cuisine, Top Dishes, Price for 2, Dining Rating, Dining Rating Count, Delivery Rating, Delivery Rating Count, Features]\n",
       "Index: []"
      ]
     },
     "execution_count": 65,
     "metadata": {},
     "output_type": "execute_result"
    }
   ],
   "source": [
    "#Duplicate records identification\n",
    "data=raw_df['Name of Restaurant']=='Name of Restaurant'\n",
    "raw_df_duplicate=raw_df[data]\n",
    "raw_df_duplicate"
   ]
  },
  {
   "cell_type": "code",
   "execution_count": 67,
   "id": "88997572-8b64-4626-835c-bf78429e16c1",
   "metadata": {},
   "outputs": [
    {
     "data": {
      "text/plain": [
       "Name of Restaurant          0\n",
       "Location                    0\n",
       "Cuisine                     0\n",
       "Top Dishes                  0\n",
       "Price for 2                 0\n",
       "Dining Rating            5351\n",
       "Dining Rating Count       220\n",
       "Delivery Rating          5851\n",
       "Delivery Rating Count     220\n",
       "Features                    0\n",
       "dtype: int64"
      ]
     },
     "execution_count": 67,
     "metadata": {},
     "output_type": "execute_result"
    }
   ],
   "source": [
    "raw_df.isnull().sum()"
   ]
  },
  {
   "cell_type": "code",
   "execution_count": 69,
   "id": "ed75f36f-3082-4c48-869a-014b0f75e177",
   "metadata": {},
   "outputs": [
    {
     "name": "stderr",
     "output_type": "stream",
     "text": [
      "C:\\Users\\DELL\\AppData\\Local\\Temp\\ipykernel_16044\\3840373266.py:2: FutureWarning: Setting an item of incompatible dtype is deprecated and will raise in a future error of pandas. Value 'NA' has dtype incompatible with float64, please explicitly cast to a compatible dtype first.\n",
      "  raw_df.fillna(\"NA\",inplace=True)\n"
     ]
    }
   ],
   "source": [
    "# Replace null values with NA\n",
    "raw_df.fillna(\"NA\",inplace=True)"
   ]
  },
  {
   "cell_type": "code",
   "execution_count": 71,
   "id": "d07cdb2f-8805-4eef-9702-ad6af5376d54",
   "metadata": {},
   "outputs": [
    {
     "data": {
      "text/plain": [
       "Name of Restaurant       0\n",
       "Location                 0\n",
       "Cuisine                  0\n",
       "Top Dishes               0\n",
       "Price for 2              0\n",
       "Dining Rating            0\n",
       "Dining Rating Count      0\n",
       "Delivery Rating          0\n",
       "Delivery Rating Count    0\n",
       "Features                 0\n",
       "dtype: int64"
      ]
     },
     "execution_count": 71,
     "metadata": {},
     "output_type": "execute_result"
    }
   ],
   "source": [
    "raw_df.isnull().sum()"
   ]
  },
  {
   "cell_type": "code",
   "execution_count": 73,
   "id": "30bb17f4-50a8-4068-94cf-9cd698a45bcd",
   "metadata": {},
   "outputs": [
    {
     "name": "stdout",
     "output_type": "stream",
     "text": [
      "<class 'pandas.core.frame.DataFrame'>\n",
      "RangeIndex: 12032 entries, 0 to 12031\n",
      "Data columns (total 10 columns):\n",
      " #   Column                 Non-Null Count  Dtype  \n",
      "---  ------                 --------------  -----  \n",
      " 0   Name of Restaurant     12032 non-null  object \n",
      " 1   Location               12032 non-null  object \n",
      " 2   Cuisine                12032 non-null  object \n",
      " 3   Top Dishes             12032 non-null  object \n",
      " 4   Price for 2            12032 non-null  float64\n",
      " 5   Dining Rating          12032 non-null  object \n",
      " 6   Dining Rating Count    12032 non-null  object \n",
      " 7   Delivery Rating        12032 non-null  object \n",
      " 8   Delivery Rating Count  12032 non-null  object \n",
      " 9   Features               12032 non-null  object \n",
      "dtypes: float64(1), object(9)\n",
      "memory usage: 940.1+ KB\n"
     ]
    }
   ],
   "source": [
    "raw_df.info()"
   ]
  },
  {
   "cell_type": "code",
   "execution_count": 75,
   "id": "6be64455-5f82-49ca-a614-867c47013148",
   "metadata": {},
   "outputs": [
    {
     "data": {
      "text/plain": [
       "Dining Rating\n",
       "NA     5351\n",
       "3.6     584\n",
       "3.5     553\n",
       "3.7     525\n",
       "3.4     500\n",
       "3.3     463\n",
       "3.8     460\n",
       "3.2     433\n",
       "3.9     379\n",
       "3.1     363\n",
       "2.0     354\n",
       "3.0     302\n",
       "4.0     288\n",
       "2.9     257\n",
       "4.1     221\n",
       "2.8     192\n",
       "4.2     142\n",
       "2.7     138\n",
       "4.3     105\n",
       "2.6      99\n",
       "2.5      71\n",
       "4.4      61\n",
       "2.4      46\n",
       "4.5      36\n",
       "2.3      32\n",
       "2.2      20\n",
       "4.6      17\n",
       "4.7      12\n",
       "2.1      10\n",
       "4.9       7\n",
       "4.8       4\n",
       "1.9       3\n",
       "1.7       2\n",
       "0.3       1\n",
       "1.0       1\n",
       "Name: count, dtype: int64"
      ]
     },
     "execution_count": 75,
     "metadata": {},
     "output_type": "execute_result"
    }
   ],
   "source": [
    "# categorial to 0 meaningfull value\n",
    "raw_df['Dining Rating'].value_counts()"
   ]
  },
  {
   "cell_type": "code",
   "execution_count": 77,
   "id": "05879ca5-aeaa-4014-80d5-c0739b4d7b04",
   "metadata": {},
   "outputs": [],
   "source": [
    "raw_df['Dining Rating'].replace(to_replace=['NA'],value=0,inplace=True)"
   ]
  },
  {
   "cell_type": "code",
   "execution_count": 79,
   "id": "d4f08fcf-f890-46b6-950c-a676feab91ab",
   "metadata": {},
   "outputs": [
    {
     "data": {
      "text/plain": [
       "Dining Rating Count\n",
       "Does not offer Dining        2603\n",
       "Not enough Dining Reviews    2528\n",
       "4                             339\n",
       "5                             271\n",
       "6                             248\n",
       "                             ... \n",
       "877                             1\n",
       "897                             1\n",
       "872                             1\n",
       "1197                            1\n",
       "224                             1\n",
       "Name: count, Length: 794, dtype: int64"
      ]
     },
     "execution_count": 79,
     "metadata": {},
     "output_type": "execute_result"
    }
   ],
   "source": [
    "raw_df['Dining Rating Count'].value_counts()"
   ]
  },
  {
   "cell_type": "code",
   "execution_count": 81,
   "id": "0ec686de-0e3f-4fed-8b2d-3fe2809103d6",
   "metadata": {},
   "outputs": [],
   "source": [
    "raw_df['Dining Rating Count'].replace(to_replace=['Does not offer Dining','NA','Not enough Dining Reviews'],value=0,inplace=True)"
   ]
  },
  {
   "cell_type": "code",
   "execution_count": 83,
   "id": "7c688ba8-a350-460f-9169-1f242c4fb916",
   "metadata": {},
   "outputs": [
    {
     "data": {
      "text/plain": [
       "Delivery Rating\n",
       "NA     5851\n",
       "3.9    1383\n",
       "3.8     701\n",
       "4.0     570\n",
       "3.7     559\n",
       "4.1     468\n",
       "3.6     465\n",
       "4.2     401\n",
       "3.5     314\n",
       "4.3     277\n",
       "3.4     259\n",
       "3.3     189\n",
       "4.4     128\n",
       "3.2      93\n",
       "3.1      79\n",
       "3.0      63\n",
       "4.5      55\n",
       "2.9      39\n",
       "2.8      26\n",
       "4.6      24\n",
       "2.7      19\n",
       "2.6      17\n",
       "2.5       9\n",
       "0.3       8\n",
       "2.4       7\n",
       "2.3       5\n",
       "2.2       5\n",
       "2.0       5\n",
       "1.8       5\n",
       "4.7       4\n",
       "2.1       2\n",
       "1.6       1\n",
       "1.5       1\n",
       "Name: count, dtype: int64"
      ]
     },
     "execution_count": 83,
     "metadata": {},
     "output_type": "execute_result"
    }
   ],
   "source": [
    "raw_df['Delivery Rating'].value_counts()"
   ]
  },
  {
   "cell_type": "code",
   "execution_count": 85,
   "id": "809595cc-1760-484b-b2e7-8fc447fae819",
   "metadata": {},
   "outputs": [],
   "source": [
    "raw_df['Delivery Rating'].replace(to_replace=['NA'],value=0,inplace=True)"
   ]
  },
  {
   "cell_type": "code",
   "execution_count": 87,
   "id": "c93e927a-d8c0-4b8f-860f-598a7221622a",
   "metadata": {},
   "outputs": [
    {
     "data": {
      "text/plain": [
       "Delivery Rating Count\n",
       "Not enough Delivery Reviews    3379\n",
       "Does not offer Delivery        2252\n",
       "NA                              220\n",
       "27                               34\n",
       "37                               30\n",
       "                               ... \n",
       "3530                              1\n",
       "7705                              1\n",
       "6374                              1\n",
       "1773                              1\n",
       "1617                              1\n",
       "Name: count, Length: 2282, dtype: int64"
      ]
     },
     "execution_count": 87,
     "metadata": {},
     "output_type": "execute_result"
    }
   ],
   "source": [
    "raw_df['Delivery Rating Count'].value_counts()"
   ]
  },
  {
   "cell_type": "code",
   "execution_count": 89,
   "id": "f2309e26-3a6f-4c2d-8427-aad0584177dd",
   "metadata": {},
   "outputs": [],
   "source": [
    "raw_df['Delivery Rating Count'].replace(to_replace=['Does not offer Delivery','NA','Not enough Delivery Reviews'],value=0,inplace=True)"
   ]
  },
  {
   "cell_type": "code",
   "execution_count": 93,
   "id": "ad31d808-888d-4471-9bcc-ca18b7d9cd21",
   "metadata": {},
   "outputs": [
    {
     "name": "stdout",
     "output_type": "stream",
     "text": [
      "<class 'pandas.core.frame.DataFrame'>\n",
      "RangeIndex: 12032 entries, 0 to 12031\n",
      "Data columns (total 10 columns):\n",
      " #   Column                 Non-Null Count  Dtype  \n",
      "---  ------                 --------------  -----  \n",
      " 0   Name of Restaurant     12032 non-null  object \n",
      " 1   Location               12032 non-null  object \n",
      " 2   Cuisine                12032 non-null  object \n",
      " 3   Top Dishes             12032 non-null  object \n",
      " 4   Price for 2            12032 non-null  float64\n",
      " 5   Dining Rating          12032 non-null  float64\n",
      " 6   Dining Rating Count    12032 non-null  object \n",
      " 7   Delivery Rating        12032 non-null  float64\n",
      " 8   Delivery Rating Count  12032 non-null  object \n",
      " 9   Features               12032 non-null  object \n",
      "dtypes: float64(3), object(7)\n",
      "memory usage: 940.1+ KB\n"
     ]
    }
   ],
   "source": [
    "raw_df.info()"
   ]
  },
  {
   "cell_type": "code",
   "execution_count": 95,
   "id": "c0590043-5b95-43b0-affb-a22e42a996b2",
   "metadata": {},
   "outputs": [],
   "source": [
    "# Replacing the text values with '0'\n",
    "raw_df['Top Dishes'].fillna(0,inplace=True)"
   ]
  },
  {
   "cell_type": "code",
   "execution_count": 97,
   "id": "3f39c272-b2fb-4b43-922c-3ba8db3bbe4a",
   "metadata": {},
   "outputs": [],
   "source": [
    "# Invalid  Dishes converted to uncategorised Dishes Dishes\n",
    "raw_df['Top Dishes'].replace(to_replace=['Invalid '],value='uncategorised Dish',inplace=True)"
   ]
  },
  {
   "cell_type": "code",
   "execution_count": 103,
   "id": "68794d19-a60b-4fc5-8604-8cc4f3a92126",
   "metadata": {},
   "outputs": [],
   "source": [
    "# Changing Data Type of the numerical columns\n",
    "raw_df['Dining Rating Count']=raw_df['Dining Rating Count'].astype('float64')\n",
    "raw_df['Dining Rating']=raw_df['Dining Rating'].astype('int64')\n",
    "raw_df['Delivery Rating Count'] = raw_df['Delivery Rating Count'].astype('float64')\n",
    "raw_df['Delivery Rating ']=raw_df['Delivery Rating'].astype('int64')"
   ]
  },
  {
   "cell_type": "code",
   "execution_count": 105,
   "id": "f9d69f7b-458f-42db-a51b-16c3498cfdad",
   "metadata": {},
   "outputs": [
    {
     "name": "stdout",
     "output_type": "stream",
     "text": [
      "<class 'pandas.core.frame.DataFrame'>\n",
      "RangeIndex: 12032 entries, 0 to 12031\n",
      "Data columns (total 11 columns):\n",
      " #   Column                 Non-Null Count  Dtype  \n",
      "---  ------                 --------------  -----  \n",
      " 0   Name of Restaurant     12032 non-null  object \n",
      " 1   Location               12032 non-null  object \n",
      " 2   Cuisine                12032 non-null  object \n",
      " 3   Top Dishes             12032 non-null  object \n",
      " 4   Price for 2            12032 non-null  float64\n",
      " 5   Dining Rating          12032 non-null  int64  \n",
      " 6   Dining Rating Count    12032 non-null  float64\n",
      " 7   Delivery Rating        12032 non-null  float64\n",
      " 8   Delivery Rating Count  12032 non-null  float64\n",
      " 9   Features               12032 non-null  object \n",
      " 10  Delivery Rating        12032 non-null  int64  \n",
      "dtypes: float64(4), int64(2), object(5)\n",
      "memory usage: 1.0+ MB\n"
     ]
    }
   ],
   "source": [
    "dataset.info()"
   ]
  },
  {
   "cell_type": "code",
   "execution_count": 33,
   "id": "7ad526ce-2f71-4ce4-ba94-c258c92a59c7",
   "metadata": {},
   "outputs": [
    {
     "data": {
      "text/plain": [
       "Name of Restaurant       0\n",
       "Location                 0\n",
       "Cuisine                  0\n",
       "Top Dishes               0\n",
       "Price for 2              0\n",
       "Dining Rating            0\n",
       "Dining Rating Count      0\n",
       "Delivery Rating          0\n",
       "Delivery Rating Count    0\n",
       "Features                 0\n",
       "Delivery Rating          0\n",
       "dtype: int64"
      ]
     },
     "execution_count": 33,
     "metadata": {},
     "output_type": "execute_result"
    }
   ],
   "source": [
    "dataset.isna().sum()"
   ]
  },
  {
   "cell_type": "code",
   "execution_count": 34,
   "id": "d05b6786-5874-4919-abaf-c8abe7cf13dc",
   "metadata": {},
   "outputs": [
    {
     "data": {
      "text/html": [
       "<div>\n",
       "<style scoped>\n",
       "    .dataframe tbody tr th:only-of-type {\n",
       "        vertical-align: middle;\n",
       "    }\n",
       "\n",
       "    .dataframe tbody tr th {\n",
       "        vertical-align: top;\n",
       "    }\n",
       "\n",
       "    .dataframe thead th {\n",
       "        text-align: right;\n",
       "    }\n",
       "</style>\n",
       "<table border=\"1\" class=\"dataframe\">\n",
       "  <thead>\n",
       "    <tr style=\"text-align: right;\">\n",
       "      <th></th>\n",
       "      <th>Name of Restaurant</th>\n",
       "      <th>Location</th>\n",
       "      <th>Cuisine</th>\n",
       "      <th>Top Dishes</th>\n",
       "      <th>Price for 2</th>\n",
       "      <th>Dining Rating</th>\n",
       "      <th>Dining Rating Count</th>\n",
       "      <th>Delivery Rating</th>\n",
       "      <th>Delivery Rating Count</th>\n",
       "      <th>Features</th>\n",
       "      <th>Delivery Rating</th>\n",
       "    </tr>\n",
       "  </thead>\n",
       "  <tbody>\n",
       "    <tr>\n",
       "      <th>0</th>\n",
       "      <td>Yaa Mohaideen Briyani</td>\n",
       "      <td>Pallavaram</td>\n",
       "      <td>['Biryani']</td>\n",
       "      <td>['Bread Halwa', ' Chicken 65', ' Mutton Biryan...</td>\n",
       "      <td>500.0</td>\n",
       "      <td>4</td>\n",
       "      <td>1500.0</td>\n",
       "      <td>4.3</td>\n",
       "      <td>9306.0</td>\n",
       "      <td>['Home Delivery', 'Indoor Seating']</td>\n",
       "      <td>4</td>\n",
       "    </tr>\n",
       "    <tr>\n",
       "      <th>1</th>\n",
       "      <td>Sukkubhai Biriyani</td>\n",
       "      <td>Alandur</td>\n",
       "      <td>['Biryani', ' North Indian', ' Mughlai', ' Des...</td>\n",
       "      <td>['Beef Biryani', ' Beef Fry', ' Paratha', ' Pa...</td>\n",
       "      <td>1000.0</td>\n",
       "      <td>4</td>\n",
       "      <td>3059.0</td>\n",
       "      <td>4.1</td>\n",
       "      <td>39200.0</td>\n",
       "      <td>['Home Delivery', 'Free Parking', 'Table booki...</td>\n",
       "      <td>4</td>\n",
       "    </tr>\n",
       "    <tr>\n",
       "      <th>2</th>\n",
       "      <td>SS Hyderabad Biryani</td>\n",
       "      <td>Kodambakkam</td>\n",
       "      <td>['Biryani', ' North Indian', ' Chinese', ' Ara...</td>\n",
       "      <td>['Brinjal Curry', ' Tandoori Chicken', ' Chick...</td>\n",
       "      <td>500.0</td>\n",
       "      <td>4</td>\n",
       "      <td>1361.0</td>\n",
       "      <td>4.4</td>\n",
       "      <td>10500.0</td>\n",
       "      <td>['Home Delivery', 'Indoor Seating']</td>\n",
       "      <td>4</td>\n",
       "    </tr>\n",
       "    <tr>\n",
       "      <th>3</th>\n",
       "      <td>KFC</td>\n",
       "      <td>Perambur</td>\n",
       "      <td>['Burger', ' Fast Food', ' Finger Food', ' Bev...</td>\n",
       "      <td>['Zinger Burger']</td>\n",
       "      <td>500.0</td>\n",
       "      <td>4</td>\n",
       "      <td>1101.0</td>\n",
       "      <td>4.0</td>\n",
       "      <td>11200.0</td>\n",
       "      <td>['Home Delivery', 'Free Parking', 'Card Upon D...</td>\n",
       "      <td>4</td>\n",
       "    </tr>\n",
       "    <tr>\n",
       "      <th>4</th>\n",
       "      <td>Tasty Kitchen</td>\n",
       "      <td>Perambur</td>\n",
       "      <td>['Chinese', ' Biryani', ' North Indian', ' Che...</td>\n",
       "      <td>['Mutton Biryani', ' Chicken Rice', ' Tomato R...</td>\n",
       "      <td>450.0</td>\n",
       "      <td>4</td>\n",
       "      <td>617.0</td>\n",
       "      <td>4.1</td>\n",
       "      <td>22400.0</td>\n",
       "      <td>['Home Delivery', 'Indoor Seating']</td>\n",
       "      <td>4</td>\n",
       "    </tr>\n",
       "  </tbody>\n",
       "</table>\n",
       "</div>"
      ],
      "text/plain": [
       "      Name of Restaurant     Location  \\\n",
       "0  Yaa Mohaideen Briyani   Pallavaram   \n",
       "1     Sukkubhai Biriyani      Alandur   \n",
       "2   SS Hyderabad Biryani  Kodambakkam   \n",
       "3                    KFC     Perambur   \n",
       "4          Tasty Kitchen     Perambur   \n",
       "\n",
       "                                             Cuisine  \\\n",
       "0                                        ['Biryani']   \n",
       "1  ['Biryani', ' North Indian', ' Mughlai', ' Des...   \n",
       "2  ['Biryani', ' North Indian', ' Chinese', ' Ara...   \n",
       "3  ['Burger', ' Fast Food', ' Finger Food', ' Bev...   \n",
       "4  ['Chinese', ' Biryani', ' North Indian', ' Che...   \n",
       "\n",
       "                                          Top Dishes  Price for 2  \\\n",
       "0  ['Bread Halwa', ' Chicken 65', ' Mutton Biryan...        500.0   \n",
       "1  ['Beef Biryani', ' Beef Fry', ' Paratha', ' Pa...       1000.0   \n",
       "2  ['Brinjal Curry', ' Tandoori Chicken', ' Chick...        500.0   \n",
       "3                                  ['Zinger Burger']        500.0   \n",
       "4  ['Mutton Biryani', ' Chicken Rice', ' Tomato R...        450.0   \n",
       "\n",
       "   Dining Rating  Dining Rating Count  Delivery Rating  Delivery Rating Count  \\\n",
       "0              4               1500.0              4.3                 9306.0   \n",
       "1              4               3059.0              4.1                39200.0   \n",
       "2              4               1361.0              4.4                10500.0   \n",
       "3              4               1101.0              4.0                11200.0   \n",
       "4              4                617.0              4.1                22400.0   \n",
       "\n",
       "                                            Features  Delivery Rating   \n",
       "0                ['Home Delivery', 'Indoor Seating']                 4  \n",
       "1  ['Home Delivery', 'Free Parking', 'Table booki...                 4  \n",
       "2                ['Home Delivery', 'Indoor Seating']                 4  \n",
       "3  ['Home Delivery', 'Free Parking', 'Card Upon D...                 4  \n",
       "4                ['Home Delivery', 'Indoor Seating']                 4  "
      ]
     },
     "execution_count": 34,
     "metadata": {},
     "output_type": "execute_result"
    }
   ],
   "source": [
    "dataset.head()"
   ]
  },
  {
   "cell_type": "code",
   "execution_count": 35,
   "id": "b47c3f5f-7ffb-4093-92a6-d8d18e2396c6",
   "metadata": {},
   "outputs": [
    {
     "data": {
      "text/html": [
       "<div>\n",
       "<style scoped>\n",
       "    .dataframe tbody tr th:only-of-type {\n",
       "        vertical-align: middle;\n",
       "    }\n",
       "\n",
       "    .dataframe tbody tr th {\n",
       "        vertical-align: top;\n",
       "    }\n",
       "\n",
       "    .dataframe thead th {\n",
       "        text-align: right;\n",
       "    }\n",
       "</style>\n",
       "<table border=\"1\" class=\"dataframe\">\n",
       "  <thead>\n",
       "    <tr style=\"text-align: right;\">\n",
       "      <th></th>\n",
       "      <th>Name of Restaurant</th>\n",
       "      <th>Location</th>\n",
       "      <th>Cuisine</th>\n",
       "      <th>Top Dishes</th>\n",
       "      <th>Price for 2</th>\n",
       "      <th>Dining Rating</th>\n",
       "      <th>Dining Rating Count</th>\n",
       "      <th>Delivery Rating</th>\n",
       "      <th>Delivery Rating Count</th>\n",
       "      <th>Features</th>\n",
       "      <th>Delivery Rating</th>\n",
       "    </tr>\n",
       "  </thead>\n",
       "  <tbody>\n",
       "    <tr>\n",
       "      <th>6</th>\n",
       "      <td>Bai Veetu Kalyanam</td>\n",
       "      <td>Navallur</td>\n",
       "      <td>['Biryani']</td>\n",
       "      <td>['Bread Halwa', ' Mutton Biryani', ' Brinjal G...</td>\n",
       "      <td>350.0</td>\n",
       "      <td>0</td>\n",
       "      <td>0.0</td>\n",
       "      <td>4.3</td>\n",
       "      <td>1061.0</td>\n",
       "      <td>['Home Delivery']</td>\n",
       "      <td>4</td>\n",
       "    </tr>\n",
       "    <tr>\n",
       "      <th>15</th>\n",
       "      <td>Welcome Hotel</td>\n",
       "      <td>Purasavakkam</td>\n",
       "      <td>['South Indian', ' Desserts', ' Beverages']</td>\n",
       "      <td>['Pongal', ' Podi Dosa', ' Idli Sambar', ' Vad...</td>\n",
       "      <td>300.0</td>\n",
       "      <td>4</td>\n",
       "      <td>1094.0</td>\n",
       "      <td>0.0</td>\n",
       "      <td>0.0</td>\n",
       "      <td>['Breakfast', 'Vegetarian Only', 'Indoor Seati...</td>\n",
       "      <td>0</td>\n",
       "    </tr>\n",
       "    <tr>\n",
       "      <th>18</th>\n",
       "      <td>Wire Room Bar &amp; Kitchen</td>\n",
       "      <td>Phoenix Market City, Velachery</td>\n",
       "      <td>['Continental', ' Asian']</td>\n",
       "      <td>['Cocktails', ' Salad', ' Beer', ' Tikka', ' P...</td>\n",
       "      <td>2000.0</td>\n",
       "      <td>4</td>\n",
       "      <td>354.0</td>\n",
       "      <td>0.0</td>\n",
       "      <td>0.0</td>\n",
       "      <td>['Full Bar Available', 'Mall Parking', 'Dance ...</td>\n",
       "      <td>0</td>\n",
       "    </tr>\n",
       "    <tr>\n",
       "      <th>23</th>\n",
       "      <td>BFF 2.0</td>\n",
       "      <td>RA Puram</td>\n",
       "      <td>['North Indian', ' Continental', ' Italian']</td>\n",
       "      <td>['Crispy Chicken', ' Cocktails', ' Pizza', ' N...</td>\n",
       "      <td>1500.0</td>\n",
       "      <td>4</td>\n",
       "      <td>464.0</td>\n",
       "      <td>0.0</td>\n",
       "      <td>0.0</td>\n",
       "      <td>['Full Bar Available', 'Indoor Seating', 'Nigh...</td>\n",
       "      <td>0</td>\n",
       "    </tr>\n",
       "    <tr>\n",
       "      <th>77</th>\n",
       "      <td>Al Dhareeq Beef Biriyani</td>\n",
       "      <td>Kodambakkam</td>\n",
       "      <td>['Biryani']</td>\n",
       "      <td>['Beef Biryani']</td>\n",
       "      <td>300.0</td>\n",
       "      <td>0</td>\n",
       "      <td>0.0</td>\n",
       "      <td>3.9</td>\n",
       "      <td>19600.0</td>\n",
       "      <td>['Home Delivery']</td>\n",
       "      <td>3</td>\n",
       "    </tr>\n",
       "    <tr>\n",
       "      <th>...</th>\n",
       "      <td>...</td>\n",
       "      <td>...</td>\n",
       "      <td>...</td>\n",
       "      <td>...</td>\n",
       "      <td>...</td>\n",
       "      <td>...</td>\n",
       "      <td>...</td>\n",
       "      <td>...</td>\n",
       "      <td>...</td>\n",
       "      <td>...</td>\n",
       "      <td>...</td>\n",
       "    </tr>\n",
       "    <tr>\n",
       "      <th>12027</th>\n",
       "      <td>CK's Sandwiches</td>\n",
       "      <td>Porur</td>\n",
       "      <td>['Sandwich']</td>\n",
       "      <td>Invalid</td>\n",
       "      <td>350.0</td>\n",
       "      <td>0</td>\n",
       "      <td>0.0</td>\n",
       "      <td>0.0</td>\n",
       "      <td>0.0</td>\n",
       "      <td>['Breakfast', 'Delivery Only']</td>\n",
       "      <td>0</td>\n",
       "    </tr>\n",
       "    <tr>\n",
       "      <th>12028</th>\n",
       "      <td>CK's Sandwiches</td>\n",
       "      <td>Kolathur</td>\n",
       "      <td>['Sandwich']</td>\n",
       "      <td>Invalid</td>\n",
       "      <td>350.0</td>\n",
       "      <td>0</td>\n",
       "      <td>0.0</td>\n",
       "      <td>0.0</td>\n",
       "      <td>0.0</td>\n",
       "      <td>['Breakfast', 'Delivery Only']</td>\n",
       "      <td>0</td>\n",
       "    </tr>\n",
       "    <tr>\n",
       "      <th>12029</th>\n",
       "      <td>CK's Sandwiches</td>\n",
       "      <td>Anna Nagar East</td>\n",
       "      <td>['Sandwich']</td>\n",
       "      <td>Invalid</td>\n",
       "      <td>350.0</td>\n",
       "      <td>0</td>\n",
       "      <td>0.0</td>\n",
       "      <td>0.0</td>\n",
       "      <td>0.0</td>\n",
       "      <td>['Breakfast', 'Delivery Only']</td>\n",
       "      <td>0</td>\n",
       "    </tr>\n",
       "    <tr>\n",
       "      <th>12030</th>\n",
       "      <td>CK's Sandwiches</td>\n",
       "      <td>Ramapuram</td>\n",
       "      <td>['Sandwich']</td>\n",
       "      <td>Invalid</td>\n",
       "      <td>350.0</td>\n",
       "      <td>0</td>\n",
       "      <td>0.0</td>\n",
       "      <td>0.0</td>\n",
       "      <td>0.0</td>\n",
       "      <td>['Breakfast', 'Delivery Only']</td>\n",
       "      <td>0</td>\n",
       "    </tr>\n",
       "    <tr>\n",
       "      <th>12031</th>\n",
       "      <td>CK's Sandwiches</td>\n",
       "      <td>Sholinganallur</td>\n",
       "      <td>['Sandwich']</td>\n",
       "      <td>Invalid</td>\n",
       "      <td>350.0</td>\n",
       "      <td>0</td>\n",
       "      <td>0.0</td>\n",
       "      <td>0.0</td>\n",
       "      <td>0.0</td>\n",
       "      <td>['Breakfast', 'Delivery Only']</td>\n",
       "      <td>0</td>\n",
       "    </tr>\n",
       "  </tbody>\n",
       "</table>\n",
       "<p>7652 rows × 11 columns</p>\n",
       "</div>"
      ],
      "text/plain": [
       "             Name of Restaurant                        Location  \\\n",
       "6            Bai Veetu Kalyanam                        Navallur   \n",
       "15                Welcome Hotel                    Purasavakkam   \n",
       "18      Wire Room Bar & Kitchen  Phoenix Market City, Velachery   \n",
       "23                      BFF 2.0                        RA Puram   \n",
       "77     Al Dhareeq Beef Biriyani                     Kodambakkam   \n",
       "...                         ...                             ...   \n",
       "12027           CK's Sandwiches                           Porur   \n",
       "12028           CK's Sandwiches                        Kolathur   \n",
       "12029           CK's Sandwiches                 Anna Nagar East   \n",
       "12030           CK's Sandwiches                       Ramapuram   \n",
       "12031           CK's Sandwiches                  Sholinganallur   \n",
       "\n",
       "                                            Cuisine  \\\n",
       "6                                       ['Biryani']   \n",
       "15      ['South Indian', ' Desserts', ' Beverages']   \n",
       "18                        ['Continental', ' Asian']   \n",
       "23     ['North Indian', ' Continental', ' Italian']   \n",
       "77                                      ['Biryani']   \n",
       "...                                             ...   \n",
       "12027                                  ['Sandwich']   \n",
       "12028                                  ['Sandwich']   \n",
       "12029                                  ['Sandwich']   \n",
       "12030                                  ['Sandwich']   \n",
       "12031                                  ['Sandwich']   \n",
       "\n",
       "                                              Top Dishes  Price for 2  \\\n",
       "6      ['Bread Halwa', ' Mutton Biryani', ' Brinjal G...        350.0   \n",
       "15     ['Pongal', ' Podi Dosa', ' Idli Sambar', ' Vad...        300.0   \n",
       "18     ['Cocktails', ' Salad', ' Beer', ' Tikka', ' P...       2000.0   \n",
       "23     ['Crispy Chicken', ' Cocktails', ' Pizza', ' N...       1500.0   \n",
       "77                                      ['Beef Biryani']        300.0   \n",
       "...                                                  ...          ...   \n",
       "12027                                            Invalid        350.0   \n",
       "12028                                            Invalid        350.0   \n",
       "12029                                            Invalid        350.0   \n",
       "12030                                            Invalid        350.0   \n",
       "12031                                            Invalid        350.0   \n",
       "\n",
       "       Dining Rating  Dining Rating Count  Delivery Rating  \\\n",
       "6                  0                  0.0              4.3   \n",
       "15                 4               1094.0              0.0   \n",
       "18                 4                354.0              0.0   \n",
       "23                 4                464.0              0.0   \n",
       "77                 0                  0.0              3.9   \n",
       "...              ...                  ...              ...   \n",
       "12027              0                  0.0              0.0   \n",
       "12028              0                  0.0              0.0   \n",
       "12029              0                  0.0              0.0   \n",
       "12030              0                  0.0              0.0   \n",
       "12031              0                  0.0              0.0   \n",
       "\n",
       "       Delivery Rating Count  \\\n",
       "6                     1061.0   \n",
       "15                       0.0   \n",
       "18                       0.0   \n",
       "23                       0.0   \n",
       "77                   19600.0   \n",
       "...                      ...   \n",
       "12027                    0.0   \n",
       "12028                    0.0   \n",
       "12029                    0.0   \n",
       "12030                    0.0   \n",
       "12031                    0.0   \n",
       "\n",
       "                                                Features  Delivery Rating   \n",
       "6                                      ['Home Delivery']                 4  \n",
       "15     ['Breakfast', 'Vegetarian Only', 'Indoor Seati...                 0  \n",
       "18     ['Full Bar Available', 'Mall Parking', 'Dance ...                 0  \n",
       "23     ['Full Bar Available', 'Indoor Seating', 'Nigh...                 0  \n",
       "77                                     ['Home Delivery']                 3  \n",
       "...                                                  ...               ...  \n",
       "12027                     ['Breakfast', 'Delivery Only']                 0  \n",
       "12028                     ['Breakfast', 'Delivery Only']                 0  \n",
       "12029                     ['Breakfast', 'Delivery Only']                 0  \n",
       "12030                     ['Breakfast', 'Delivery Only']                 0  \n",
       "12031                     ['Breakfast', 'Delivery Only']                 0  \n",
       "\n",
       "[7652 rows x 11 columns]"
      ]
     },
     "execution_count": 35,
     "metadata": {},
     "output_type": "execute_result"
    }
   ],
   "source": [
    "# Finding those restaurant whose has 0 Rating \n",
    "useless_data=(dataset['Dining Rating']==0.0)|(dataset['Delivery Rating']==0.0)\n",
    "dataset[useless_data]"
   ]
  },
  {
   "cell_type": "code",
   "execution_count": 41,
   "id": "37bbb3ca-7d74-44cf-990f-338c77076d96",
   "metadata": {},
   "outputs": [
    {
     "ename": "NameError",
     "evalue": "name 'useless_dataset_rating' is not defined",
     "output_type": "error",
     "traceback": [
      "\u001b[1;31m---------------------------------------------------------------------------\u001b[0m",
      "\u001b[1;31mNameError\u001b[0m                                 Traceback (most recent call last)",
      "Cell \u001b[1;32mIn[41], line 1\u001b[0m\n\u001b[1;32m----> 1\u001b[0m useless_dataset\u001b[38;5;241m=\u001b[39mdataset[\u001b[38;5;241m~\u001b[39museless_dataset_rating]\n",
      "\u001b[1;31mNameError\u001b[0m: name 'useless_dataset_rating' is not defined"
     ]
    }
   ],
   "source": [
    "useless_dataset=dataset[~useless_dataset_rating]"
   ]
  },
  {
   "cell_type": "code",
   "execution_count": null,
   "id": "0bf11630-f3e0-4cac-81ae-c7b8ba764934",
   "metadata": {},
   "outputs": [],
   "source": [
    "dataset=pd.merge(dataset_unwanted_deliv_rating,dataset_unwanted_dining_rating)"
   ]
  },
  {
   "cell_type": "code",
   "execution_count": null,
   "id": "53fb206f-85aa-49e0-a354-395824fc5ffa",
   "metadata": {},
   "outputs": [],
   "source": []
  }
 ],
 "metadata": {
  "kernelspec": {
   "display_name": "Python 3 (ipykernel)",
   "language": "python",
   "name": "python3"
  },
  "language_info": {
   "codemirror_mode": {
    "name": "ipython",
    "version": 3
   },
   "file_extension": ".py",
   "mimetype": "text/x-python",
   "name": "python",
   "nbconvert_exporter": "python",
   "pygments_lexer": "ipython3",
   "version": "3.11.7"
  }
 },
 "nbformat": 4,
 "nbformat_minor": 5
}
